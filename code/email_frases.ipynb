{
 "cells": [
  {
   "cell_type": "code",
   "execution_count": 20,
   "id": "a15a136e",
   "metadata": {},
   "outputs": [],
   "source": [
    "import pandas as pd\n",
    "import numpy as np\n",
    "import smtplib, ssl\n",
    "import unicodedata\n",
    "import gspread\n",
    "\n",
    "\n",
    "    "
   ]
  },
  {
   "cell_type": "code",
   "execution_count": 21,
   "id": "90b3c407",
   "metadata": {},
   "outputs": [],
   "source": [
    "df = pd.read_csv(r'C:\\Users\\jvaym\\Desktop\\IRONHACK\\Semana5\\project_PBI\\frases_autores2.csv')\n",
    "gc = gspread.service_account()\n",
    "sh = gc.open(\"Datos_contacto\")\n",
    "contact = pd.DataFrame(sh.sheet1.get()[1:], columns = sh.sheet1.get()[0])\n",
    "contact.drop_duplicates('Email', keep = 'last', inplace = True)\n",
    "a = open(r'C:\\Users\\jvaym\\Desktop\\IRONHACK\\Semana5\\project_PBI\\accesos.txt', 'r')\n",
    "contr = a.read()\n",
    "contr = contr.split('\\n')"
   ]
  },
  {
   "cell_type": "code",
   "execution_count": 22,
   "id": "eeb66bdc",
   "metadata": {},
   "outputs": [],
   "source": [
    "for u, i in enumerate(contact['Email'][:2]):\n",
    "    #Definición de variables\n",
    "    ind = np.random.randint(0,len(df))\n",
    "    frase = df['Frase'][ind]\n",
    "    frase = unicodedata.normalize('NFD', frase).encode('ascii', 'ignore').decode(\"utf-8\")\n",
    "    autor = df['Nombre'][ind]\n",
    "    autor = unicodedata.normalize('NFD', autor).encode('ascii', 'ignore').decode(\"utf-8\")\n",
    "    link = df['Link'][ind]\n",
    "    link = unicodedata.normalize('NFD', link).encode('ascii', 'ignore').decode(\"utf-8\")\n",
    "    nombre = contact['Nombre'][u]\n",
    "    nombre = unicodedata.normalize('NFD', nombre).encode('ascii', 'ignore').decode(\"utf-8\")\n",
    "    #Aquí van los datos del correo\n",
    "    port = 587  # For starttls\n",
    "    smtp_server = \"smtp.office365.com\"\n",
    "    sender_email = contr[1]\n",
    "    receiver_email = i\n",
    "    password = contr[0]\n",
    "    message = f\"\"\"\\\n",
    "    \n",
    "Subject: Tu frase del dia\n",
    "    \n",
    "\n",
    "Hola {nombre},\n",
    "\n",
    "{frase}\n",
    "\n",
    "- {autor}\n",
    "\n",
    "Acerca del autor: {link}.\"\"\"\n",
    "\n",
    "    context = ssl.create_default_context()\n",
    "    with smtplib.SMTP(smtp_server, port) as server:\n",
    "        server.ehlo()  # Can be omitted\n",
    "        server.starttls(context=context)\n",
    "        server.ehlo()  # Can be omitted\n",
    "        server.login(sender_email, password)\n",
    "        server.sendmail(sender_email, receiver_email, message)"
   ]
  },
  {
   "cell_type": "code",
   "execution_count": null,
   "id": "04010e03",
   "metadata": {},
   "outputs": [],
   "source": []
  },
  {
   "cell_type": "code",
   "execution_count": null,
   "id": "9376c1f3",
   "metadata": {},
   "outputs": [],
   "source": []
  },
  {
   "cell_type": "code",
   "execution_count": 18,
   "id": "c3c6f6e9",
   "metadata": {},
   "outputs": [],
   "source": []
  },
  {
   "cell_type": "code",
   "execution_count": null,
   "id": "6b3efc81",
   "metadata": {},
   "outputs": [],
   "source": []
  },
  {
   "cell_type": "code",
   "execution_count": null,
   "id": "a48f6079",
   "metadata": {},
   "outputs": [],
   "source": []
  },
  {
   "cell_type": "code",
   "execution_count": null,
   "id": "b23c350c",
   "metadata": {},
   "outputs": [],
   "source": []
  }
 ],
 "metadata": {
  "kernelspec": {
   "display_name": "Python 3 (ipykernel)",
   "language": "python",
   "name": "python3"
  },
  "language_info": {
   "codemirror_mode": {
    "name": "ipython",
    "version": 3
   },
   "file_extension": ".py",
   "mimetype": "text/x-python",
   "name": "python",
   "nbconvert_exporter": "python",
   "pygments_lexer": "ipython3",
   "version": "3.9.7"
  }
 },
 "nbformat": 4,
 "nbformat_minor": 5
}
